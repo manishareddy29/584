{
 "cells": [
  {
   "cell_type": "code",
   "execution_count": 1,
   "metadata": {},
   "outputs": [
    {
     "name": "stdout",
     "output_type": "stream",
     "text": [
      "Integer Variable:\n",
      "Value: 42 Type: <class 'int'>\n"
     ]
    }
   ],
   "source": [
    "integer_var = 42 \n",
    "print(\"Integer Variable:\")\n",
    "print(\"Value:\", integer_var, \"Type:\", type(integer_var))"
   ]
  },
  {
   "cell_type": "code",
   "execution_count": 2,
   "metadata": {},
   "outputs": [
    {
     "name": "stdout",
     "output_type": "stream",
     "text": [
      "\n",
      "Float Variable:\n",
      "Value: 3.14 Type: <class 'float'>\n"
     ]
    }
   ],
   "source": [
    "float_var = 3.14 \n",
    "print(\"\\nFloat Variable:\")\n",
    "print(\"Value:\", float_var, \"Type:\", type(float_var))"
   ]
  },
  {
   "cell_type": "code",
   "execution_count": 3,
   "metadata": {},
   "outputs": [
    {
     "name": "stdout",
     "output_type": "stream",
     "text": [
      "\n",
      "String Variable:\n",
      "Value: Hello Type: <class 'str'>\n"
     ]
    }
   ],
   "source": [
    "string_var = \"Hello\" \n",
    "print(\"\\nString Variable:\")\n",
    "print(\"Value:\", string_var, \"Type:\", type(string_var))\n"
   ]
  },
  {
   "cell_type": "code",
   "execution_count": 4,
   "metadata": {},
   "outputs": [
    {
     "name": "stdout",
     "output_type": "stream",
     "text": [
      "\n",
      "Boolean Variable:\n",
      "Value: True Type: <class 'bool'>\n"
     ]
    }
   ],
   "source": [
    "boolean_var = True\n",
    "print(\"\\nBoolean Variable:\")\n",
    "print(\"Value:\", boolean_var, \"Type:\", type(boolean_var))"
   ]
  }
 ],
 "metadata": {
  "kernelspec": {
   "display_name": "Python 3",
   "language": "python",
   "name": "python3"
  },
  "language_info": {
   "codemirror_mode": {
    "name": "ipython",
    "version": 3
   },
   "file_extension": ".py",
   "mimetype": "text/x-python",
   "name": "python",
   "nbconvert_exporter": "python",
   "pygments_lexer": "ipython3",
   "version": "3.12.8"
  }
 },
 "nbformat": 4,
 "nbformat_minor": 2
}
