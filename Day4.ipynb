{
 "cells": [
  {
   "cell_type": "code",
   "execution_count": 1,
   "metadata": {},
   "outputs": [
    {
     "name": "stdout",
     "output_type": "stream",
     "text": [
      "The sum of all even numbers between 1 and 2 is: 2\n"
     ]
    }
   ],
   "source": [
    "# Function to calculate the sum of even numbers up to n\n",
    "def sum_of_evens(n):\n",
    "    # Calculate the sum of all even numbers between 1 and n\n",
    "    total = sum(num for num in range(2, n + 1, 2))\n",
    "    return total\n",
    "\n",
    "# Input from the user\n",
    "try:\n",
    "    n = int(input(\"Enter a positive integer n: \"))\n",
    "    if n < 1:\n",
    "        print(\"Please enter a positive integer greater than 0.\")\n",
    "    else:\n",
    "        result = sum_of_evens(n)\n",
    "        print(f\"The sum of all even numbers between 1 and {n} is: {result}\")\n",
    "except ValueError:\n",
    "    print(\"Invalid input! Please enter a valid positive integer.\")\n"
   ]
  }
 ],
 "metadata": {
  "kernelspec": {
   "display_name": "Python 3",
   "language": "python",
   "name": "python3"
  },
  "language_info": {
   "codemirror_mode": {
    "name": "ipython",
    "version": 3
   },
   "file_extension": ".py",
   "mimetype": "text/x-python",
   "name": "python",
   "nbconvert_exporter": "python",
   "pygments_lexer": "ipython3",
   "version": "3.12.8"
  }
 },
 "nbformat": 4,
 "nbformat_minor": 2
}
