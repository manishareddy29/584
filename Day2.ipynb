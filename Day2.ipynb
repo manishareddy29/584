{
 "cells": [
  {
   "cell_type": "code",
   "execution_count": 6,
   "metadata": {},
   "outputs": [
    {
     "name": "stdout",
     "output_type": "stream",
     "text": [
      "List: [10, 20, 30, 40, 50]\n",
      "First element: 10\n",
      "Last element: 50\n",
      "Elements: [30, 40]\n"
     ]
    }
   ],
   "source": [
    "# Create a list\n",
    "list = [10, 20, 30, 40, 50]\n",
    "\n",
    "# Access elements by index\n",
    "first_element = list[0]  # First element\n",
    "last_element = list[-1]  # Last element\n",
    "elements = list[2:4]\n",
    "       \n",
    "\n",
    "print(\"List:\", list)\n",
    "print(\"First element:\", first_element)\n",
    "print(\"Last element:\", last_element)\n",
    "print(\"Elements:\",elements)\n",
    "\n"
   ]
  },
  {
   "cell_type": "code",
   "execution_count": 9,
   "metadata": {},
   "outputs": [
    {
     "name": "stdout",
     "output_type": "stream",
     "text": [
      "Tuple: ('apple', 'banana', 'cherry', 'date', 'elderberry')\n",
      "Second element: banana\n",
      "Last two elements: ('date', 'elderberry')\n"
     ]
    }
   ],
   "source": [
    "# Create a tuple\n",
    "tuple = (\"apple\", \"banana\", \"cherry\", \"date\", \"elderberry\")\n",
    "\n",
    "# Access elements by index\n",
    "second_element = tuple[1]  # Second element\n",
    "last_two = tuple[-2:]      # Last two elements\n",
    "\n",
    "print(\"Tuple:\", tuple)\n",
    "print(\"Second element:\", second_element)\n",
    "print(\"Last two elements:\", last_two)\n"
   ]
  },
  {
   "cell_type": "code",
   "execution_count": 13,
   "metadata": {},
   "outputs": [
    {
     "name": "stdout",
     "output_type": "stream",
     "text": [
      "Dictionary: {'name': 'Alice', 'age': 25, 'city': 'New York', 'profession': 'Engineer', 'hobby': 'Reading'}\n",
      "Name: Alice\n",
      "City: New York\n"
     ]
    }
   ],
   "source": [
    "# Create a dictionary\n",
    "dict = {\n",
    "    \"name\": \"Alice\",\n",
    "    \"age\": 25,\n",
    "    \"city\": \"New York\",\n",
    "    \"profession\": \"Engineer\",\n",
    "    \"hobby\": \"Reading\"\n",
    "}\n",
    "\n",
    "# Access elements by key\n",
    "name = dict[\"name\"]      # Access value associated with the key \"name\"\n",
    "city = dict.get(\"city\")  # Access value using get method\n",
    "\n",
    "print(\"Dictionary:\", dict)\n",
    "print(\"Name:\", name)\n",
    "print(\"City:\", city)\n",
    "\n"
   ]
  }
 ],
 "metadata": {
  "kernelspec": {
   "display_name": "Python 3",
   "language": "python",
   "name": "python3"
  },
  "language_info": {
   "codemirror_mode": {
    "name": "ipython",
    "version": 3
   },
   "file_extension": ".py",
   "mimetype": "text/x-python",
   "name": "python",
   "nbconvert_exporter": "python",
   "pygments_lexer": "ipython3",
   "version": "3.12.8"
  }
 },
 "nbformat": 4,
 "nbformat_minor": 2
}
