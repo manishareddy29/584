{
 "cells": [
  {
   "cell_type": "code",
   "execution_count": 1,
   "metadata": {},
   "outputs": [
    {
     "name": "stdout",
     "output_type": "stream",
     "text": [
      "\n",
      "Word Frequencies:\n",
      "4: 1\n"
     ]
    }
   ],
   "source": [
    "\n",
    "def word_frequency(text): \n",
    "    words = text.split()\n",
    "    frequency = {}\n",
    "    for word in words:\n",
    "        word = word.lower()  \n",
    "        frequency[word] = frequency.get(word, 0) + 1\n",
    "    return frequency\n",
    "text = input(\"Enter a block of text: \")\n",
    "frequencies = word_frequency(text)\n",
    "print(\"\\nWord Frequencies:\")\n",
    "for word, count in frequencies.items():\n",
    "    print(f\"{word}: {count}\")\n"
   ]
  }
 ],
 "metadata": {
  "kernelspec": {
   "display_name": "Python 3",
   "language": "python",
   "name": "python3"
  },
  "language_info": {
   "codemirror_mode": {
    "name": "ipython",
    "version": 3
   },
   "file_extension": ".py",
   "mimetype": "text/x-python",
   "name": "python",
   "nbconvert_exporter": "python",
   "pygments_lexer": "ipython3",
   "version": "3.12.8"
  }
 },
 "nbformat": 4,
 "nbformat_minor": 2
}
