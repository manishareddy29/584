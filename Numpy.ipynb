{
 "cells": [
  {
   "cell_type": "code",
   "execution_count": 1,
   "metadata": {},
   "outputs": [],
   "source": [
    "import numpy as np"
   ]
  },
  {
   "cell_type": "code",
   "execution_count": null,
   "metadata": {},
   "outputs": [],
   "source": [
    "arr_1d = np.array([1,2,3,4,5])\n",
    "print(\"1D Array:\",arr_1d)"
   ]
  },
  {
   "cell_type": "code",
   "execution_count": null,
   "metadata": {},
   "outputs": [],
   "source": [
    "arr_2d = np.array([[1,2,3],[4,5,6]])\n",
    "print(\"2D Array:\\n\",arr_2d)"
   ]
  },
  {
   "cell_type": "code",
   "execution_count": null,
   "metadata": {},
   "outputs": [],
   "source": [
    "arr_3d = np.array([[[1,2,3],[4,5,6]],[[17,18,19],[10,11,12]]])\n",
    "print(\"3D Array:\\n\\n\",arr_3d)"
   ]
  },
  {
   "cell_type": "code",
   "execution_count": 5,
   "metadata": {},
   "outputs": [],
   "source": [
    "import numpy as np\n",
    "\n",
    "# Example: 100 random numbers from a normal distribution\n",
    "random_data = np.random.normal(loc=0, scale=1, size=100)\n"
   ]
  },
  {
   "cell_type": "code",
   "execution_count": 6,
   "metadata": {},
   "outputs": [],
   "source": [
    "# Linearly spaced values between 0 and 10 (inclusive), 50 points\n",
    "linear_data = np.linspace(0, 10, 50)\n"
   ]
  },
  {
   "cell_type": "code",
   "execution_count": 7,
   "metadata": {},
   "outputs": [],
   "source": [
    "# Meshgrid for X and Y coordinates\n",
    "x = np.linspace(-5, 5, 10)\n",
    "y = np.linspace(-5, 5, 10)\n",
    "xx, yy = np.meshgrid(x, y)\n",
    "\n",
    "# Combine X and Y into a grid dataset\n",
    "grid_dataset = np.column_stack((xx.ravel(), yy.ravel()))\n"
   ]
  },
  {
   "cell_type": "code",
   "execution_count": 10,
   "metadata": {},
   "outputs": [
    {
     "data": {
      "text/plain": [
       "array([[-5.        , -5.        ],\n",
       "       [-3.88888889, -5.        ],\n",
       "       [-2.77777778, -5.        ],\n",
       "       [-1.66666667, -5.        ],\n",
       "       [-0.55555556, -5.        ],\n",
       "       [ 0.55555556, -5.        ],\n",
       "       [ 1.66666667, -5.        ],\n",
       "       [ 2.77777778, -5.        ],\n",
       "       [ 3.88888889, -5.        ],\n",
       "       [ 5.        , -5.        ],\n",
       "       [-5.        , -3.88888889],\n",
       "       [-3.88888889, -3.88888889],\n",
       "       [-2.77777778, -3.88888889],\n",
       "       [-1.66666667, -3.88888889],\n",
       "       [-0.55555556, -3.88888889],\n",
       "       [ 0.55555556, -3.88888889],\n",
       "       [ 1.66666667, -3.88888889],\n",
       "       [ 2.77777778, -3.88888889],\n",
       "       [ 3.88888889, -3.88888889],\n",
       "       [ 5.        , -3.88888889],\n",
       "       [-5.        , -2.77777778],\n",
       "       [-3.88888889, -2.77777778],\n",
       "       [-2.77777778, -2.77777778],\n",
       "       [-1.66666667, -2.77777778],\n",
       "       [-0.55555556, -2.77777778],\n",
       "       [ 0.55555556, -2.77777778],\n",
       "       [ 1.66666667, -2.77777778],\n",
       "       [ 2.77777778, -2.77777778],\n",
       "       [ 3.88888889, -2.77777778],\n",
       "       [ 5.        , -2.77777778],\n",
       "       [-5.        , -1.66666667],\n",
       "       [-3.88888889, -1.66666667],\n",
       "       [-2.77777778, -1.66666667],\n",
       "       [-1.66666667, -1.66666667],\n",
       "       [-0.55555556, -1.66666667],\n",
       "       [ 0.55555556, -1.66666667],\n",
       "       [ 1.66666667, -1.66666667],\n",
       "       [ 2.77777778, -1.66666667],\n",
       "       [ 3.88888889, -1.66666667],\n",
       "       [ 5.        , -1.66666667],\n",
       "       [-5.        , -0.55555556],\n",
       "       [-3.88888889, -0.55555556],\n",
       "       [-2.77777778, -0.55555556],\n",
       "       [-1.66666667, -0.55555556],\n",
       "       [-0.55555556, -0.55555556],\n",
       "       [ 0.55555556, -0.55555556],\n",
       "       [ 1.66666667, -0.55555556],\n",
       "       [ 2.77777778, -0.55555556],\n",
       "       [ 3.88888889, -0.55555556],\n",
       "       [ 5.        , -0.55555556],\n",
       "       [-5.        ,  0.55555556],\n",
       "       [-3.88888889,  0.55555556],\n",
       "       [-2.77777778,  0.55555556],\n",
       "       [-1.66666667,  0.55555556],\n",
       "       [-0.55555556,  0.55555556],\n",
       "       [ 0.55555556,  0.55555556],\n",
       "       [ 1.66666667,  0.55555556],\n",
       "       [ 2.77777778,  0.55555556],\n",
       "       [ 3.88888889,  0.55555556],\n",
       "       [ 5.        ,  0.55555556],\n",
       "       [-5.        ,  1.66666667],\n",
       "       [-3.88888889,  1.66666667],\n",
       "       [-2.77777778,  1.66666667],\n",
       "       [-1.66666667,  1.66666667],\n",
       "       [-0.55555556,  1.66666667],\n",
       "       [ 0.55555556,  1.66666667],\n",
       "       [ 1.66666667,  1.66666667],\n",
       "       [ 2.77777778,  1.66666667],\n",
       "       [ 3.88888889,  1.66666667],\n",
       "       [ 5.        ,  1.66666667],\n",
       "       [-5.        ,  2.77777778],\n",
       "       [-3.88888889,  2.77777778],\n",
       "       [-2.77777778,  2.77777778],\n",
       "       [-1.66666667,  2.77777778],\n",
       "       [-0.55555556,  2.77777778],\n",
       "       [ 0.55555556,  2.77777778],\n",
       "       [ 1.66666667,  2.77777778],\n",
       "       [ 2.77777778,  2.77777778],\n",
       "       [ 3.88888889,  2.77777778],\n",
       "       [ 5.        ,  2.77777778],\n",
       "       [-5.        ,  3.88888889],\n",
       "       [-3.88888889,  3.88888889],\n",
       "       [-2.77777778,  3.88888889],\n",
       "       [-1.66666667,  3.88888889],\n",
       "       [-0.55555556,  3.88888889],\n",
       "       [ 0.55555556,  3.88888889],\n",
       "       [ 1.66666667,  3.88888889],\n",
       "       [ 2.77777778,  3.88888889],\n",
       "       [ 3.88888889,  3.88888889],\n",
       "       [ 5.        ,  3.88888889],\n",
       "       [-5.        ,  5.        ],\n",
       "       [-3.88888889,  5.        ],\n",
       "       [-2.77777778,  5.        ],\n",
       "       [-1.66666667,  5.        ],\n",
       "       [-0.55555556,  5.        ],\n",
       "       [ 0.55555556,  5.        ],\n",
       "       [ 1.66666667,  5.        ],\n",
       "       [ 2.77777778,  5.        ],\n",
       "       [ 3.88888889,  5.        ],\n",
       "       [ 5.        ,  5.        ]])"
      ]
     },
     "execution_count": 10,
     "metadata": {},
     "output_type": "execute_result"
    }
   ],
   "source": [
    "grid_dataset"
   ]
  },
  {
   "cell_type": "code",
   "execution_count": 11,
   "metadata": {},
   "outputs": [
    {
     "name": "stdout",
     "output_type": "stream",
     "text": [
      "Array Properties\n",
      "\n",
      "Shape: (2, 3)\n",
      "Size: 6\n",
      "Data Type: int64\n"
     ]
    }
   ],
   "source": [
    "print(\"Array Properties\\n\")\n",
    "print(\"Shape:\",arr_2d.shape)\n",
    "print(\"Size:\",arr_2d.size)\n",
    "print(\"Data Type:\",arr_2d.dtype)"
   ]
  },
  {
   "cell_type": "code",
   "execution_count": 12,
   "metadata": {},
   "outputs": [
    {
     "name": "stdout",
     "output_type": "stream",
     "text": [
      "Zeros array:\n",
      " [[0. 0. 0.]\n",
      " [0. 0. 0.]]\n"
     ]
    }
   ],
   "source": [
    "zeros=np.zeros((2,3))\n",
    "print(\"Zeros array:\\n\",zeros)"
   ]
  },
  {
   "cell_type": "code",
   "execution_count": 13,
   "metadata": {},
   "outputs": [
    {
     "name": "stdout",
     "output_type": "stream",
     "text": [
      "Zeros array:\n",
      " [[1. 1. 1. 1. 1. 1.]\n",
      " [1. 1. 1. 1. 1. 1.]\n",
      " [1. 1. 1. 1. 1. 1.]]\n"
     ]
    }
   ],
   "source": [
    "ones=np.ones((3,6))\n",
    "print(\"Zeros array:\\n\",ones)"
   ]
  },
  {
   "cell_type": "code",
   "execution_count": 14,
   "metadata": {},
   "outputs": [
    {
     "name": "stdout",
     "output_type": "stream",
     "text": [
      "Identity Matrix:\n",
      " [[1. 0. 0. 0.]\n",
      " [0. 1. 0. 0.]\n",
      " [0. 0. 1. 0.]\n",
      " [0. 0. 0. 1.]]\n"
     ]
    }
   ],
   "source": [
    "identity=np.eye(4)\n",
    "print(\"Identity Matrix:\\n\",identity)"
   ]
  },
  {
   "cell_type": "code",
   "execution_count": 15,
   "metadata": {},
   "outputs": [
    {
     "name": "stdout",
     "output_type": "stream",
     "text": [
      "Linespace:\n",
      " [ 0.  5. 10.]\n"
     ]
    }
   ],
   "source": [
    "linespace=np.linspace(0,10,3)\n",
    "print(\"Linespace:\\n\",linespace)"
   ]
  },
  {
   "cell_type": "code",
   "execution_count": 16,
   "metadata": {},
   "outputs": [
    {
     "name": "stdout",
     "output_type": "stream",
     "text": [
      "Arranging:\n",
      " [ 0  2  4  6  8 10 12 14 16 18 20 22 24 26 28 30 32 34 36 38 40 42 44 46\n",
      " 48 50 52 54 56 58 60 62 64 66 68 70 72 74 76 78 80 82 84 86 88 90 92 94\n",
      " 96 98]\n"
     ]
    }
   ],
   "source": [
    "arrange_array=np.arange(0,100,2)\n",
    "print(\"Arranging:\\n\",arrange_array)"
   ]
  },
  {
   "cell_type": "code",
   "execution_count": 17,
   "metadata": {},
   "outputs": [
    {
     "name": "stdout",
     "output_type": "stream",
     "text": [
      "Addition:\n",
      " [5 7 9]\n"
     ]
    }
   ],
   "source": [
    "array_a=np.array([1,2,3])\n",
    "array_b=np.array([4,5,6])\n",
    "add = array_a +array_b\n",
    "print(\"Addition:\\n\",add)"
   ]
  },
  {
   "cell_type": "code",
   "execution_count": 18,
   "metadata": {},
   "outputs": [
    {
     "name": "stdout",
     "output_type": "stream",
     "text": [
      "Multiplication:\n",
      " [ 4 10 18]\n"
     ]
    }
   ],
   "source": [
    "array_a=np.array([1,2,3])\n",
    "array_b=np.array([4,5,6])\n",
    "mul = array_a * array_b\n",
    "print(\"Multiplication:\\n\",mul)"
   ]
  },
  {
   "cell_type": "code",
   "execution_count": 19,
   "metadata": {},
   "outputs": [
    {
     "name": "stdout",
     "output_type": "stream",
     "text": [
      "Scalar Multiplication:\n",
      " [2 4 6]\n"
     ]
    }
   ],
   "source": [
    "scalar_multiply = array_a * 2\n",
    "print(\"Scalar Multiplication:\\n\",scalar_multiply)"
   ]
  },
  {
   "cell_type": "code",
   "execution_count": 20,
   "metadata": {},
   "outputs": [
    {
     "name": "stdout",
     "output_type": "stream",
     "text": [
      "Matrix Multiplication:\n",
      " [[ 32  35]\n",
      " [212 235]]\n"
     ]
    }
   ],
   "source": [
    "matrix_a=([1,2],[11,12])\n",
    "matrix_b=([4,5],[14,15])\n",
    "mul = np.dot(matrix_a,matrix_b)\n",
    "print(\"Matrix Multiplication:\\n\",mul)"
   ]
  },
  {
   "cell_type": "code",
   "execution_count": 21,
   "metadata": {},
   "outputs": [
    {
     "name": "stdout",
     "output_type": "stream",
     "text": [
      "Array:\n",
      " [10 20 30 40]\n"
     ]
    }
   ],
   "source": [
    "array = np.array([10,20,30,40])\n",
    "print(\"Array:\\n\",array)"
   ]
  },
  {
   "cell_type": "code",
   "execution_count": 22,
   "metadata": {},
   "outputs": [
    {
     "name": "stdout",
     "output_type": "stream",
     "text": [
      "Elements at index 1:  20\n",
      "Elements at index 1 to 3:  [30 40]\n"
     ]
    }
   ],
   "source": [
    "print(\"Elements at index 1: \",array[1])\n",
    "print(\"Elements at index 1 to 3: \",array[2:4])"
   ]
  },
  {
   "cell_type": "code",
   "execution_count": 23,
   "metadata": {},
   "outputs": [
    {
     "name": "stdout",
     "output_type": "stream",
     "text": [
      "Statistical Operations:\n",
      "\n",
      "Sum: 45\n",
      "Mean: 5.0\n",
      "Standard Deviation: 2.581988897471611\n",
      "Max: 9\n",
      "Min: 1\n"
     ]
    }
   ],
   "source": [
    "large_array = np.array([1,2,3,4,5,6,7,8,9])\n",
    "print(\"Statistical Operations:\\n\")\n",
    "print(\"Sum:\",large_array.sum())\n",
    "print(\"Mean:\",large_array.mean())\n",
    "print(\"Standard Deviation:\",large_array.std())\n",
    "print(\"Max:\",large_array.max())\n",
    "print(\"Min:\",large_array.min())"
   ]
  },
  {
   "cell_type": "code",
   "execution_count": 24,
   "metadata": {},
   "outputs": [
    {
     "name": "stdout",
     "output_type": "stream",
     "text": [
      "Reshaped Array:\n",
      " [[1 2 3]\n",
      " [4 5 6]\n",
      " [7 8 9]]\n"
     ]
    }
   ],
   "source": [
    "reshaped = large_array.reshape(3,3)\n",
    "print(\"Reshaped Array:\\n\",reshaped)"
   ]
  },
  {
   "cell_type": "code",
   "execution_count": 25,
   "metadata": {},
   "outputs": [
    {
     "name": "stdout",
     "output_type": "stream",
     "text": [
      "[1 2 3 4 5 6 7 8 9]\n"
     ]
    }
   ],
   "source": [
    "r=reshaped.flatten()\n",
    "print(r)"
   ]
  },
  {
   "cell_type": "code",
   "execution_count": 26,
   "metadata": {},
   "outputs": [
    {
     "name": "stdout",
     "output_type": "stream",
     "text": [
      "Random array:\n",
      " [[0.14355229 0.50025318 0.73617253]\n",
      " [0.96587329 0.64095607 0.31198725]]\n"
     ]
    }
   ],
   "source": [
    "random_array= np.random.random((2,3))\n",
    "print(\"Random array:\\n\",random_array)"
   ]
  },
  {
   "cell_type": "code",
   "execution_count": 27,
   "metadata": {},
   "outputs": [
    {
     "name": "stdout",
     "output_type": "stream",
     "text": [
      "Random Integers:\n",
      " [[2 1 8]\n",
      " [1 2 8]]\n"
     ]
    }
   ],
   "source": [
    "random_int= np.random.randint(1,10,size=(2,3))\n",
    "print(\"Random Integers:\\n\",random_int)"
   ]
  }
 ],
 "metadata": {
  "kernelspec": {
   "display_name": "Python 3",
   "language": "python",
   "name": "python3"
  },
  "language_info": {
   "codemirror_mode": {
    "name": "ipython",
    "version": 3
   },
   "file_extension": ".py",
   "mimetype": "text/x-python",
   "name": "python",
   "nbconvert_exporter": "python",
   "pygments_lexer": "ipython3",
   "version": "3.12.8"
  }
 },
 "nbformat": 4,
 "nbformat_minor": 2
}
