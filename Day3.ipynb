{
 "cells": [
  {
   "cell_type": "code",
   "execution_count": 2,
   "metadata": {},
   "outputs": [
    {
     "name": "stdout",
     "output_type": "stream",
     "text": [
      "Grade: B\n"
     ]
    }
   ],
   "source": [
    "\n",
    "def calculate_grade():\n",
    "    try:\n",
    "        subject1 = float(input(\"Enter marks for Subject 1: \"))\n",
    "        subject2 = float(input(\"Enter marks for Subject 2: \"))\n",
    "        subject3 = float(input(\"Enter marks for Subject 3: \"))\n",
    "        average = (subject1 + subject2 + subject3) / 3\n",
    "        if average >= 90:\n",
    "            print(\"Grade: A\")\n",
    "        elif 80 <= average < 90:\n",
    "            print(\"Grade: B\")\n",
    "        elif 70 <= average < 80:\n",
    "            print(\"Grade: C\")\n",
    "        else:\n",
    "            print(\"Grade: Fail\")\n",
    "    except ValueError:\n",
    "        print(\"Invalid input! Please enter numeric values.\")\n",
    "calculate_grade()\n"
   ]
  }
 ],
 "metadata": {
  "kernelspec": {
   "display_name": "Python 3",
   "language": "python",
   "name": "python3"
  },
  "language_info": {
   "codemirror_mode": {
    "name": "ipython",
    "version": 3
   },
   "file_extension": ".py",
   "mimetype": "text/x-python",
   "name": "python",
   "nbconvert_exporter": "python",
   "pygments_lexer": "ipython3",
   "version": "3.12.8"
  }
 },
 "nbformat": 4,
 "nbformat_minor": 2
}
