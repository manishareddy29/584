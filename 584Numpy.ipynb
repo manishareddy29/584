{
 "cells": [
  {
   "cell_type": "code",
   "execution_count": 1,
   "id": "bbeb16ad-fadf-45b9-92ae-e88b8fffcfb0",
   "metadata": {},
   "outputs": [],
   "source": [
    "import numpy as np\n"
   ]
  },
  {
   "cell_type": "code",
   "execution_count": 2,
   "id": "cf4fd2df-ab51-443b-adcb-19be3caeba86",
   "metadata": {
    "scrolled": true
   },
   "outputs": [
    {
     "name": "stdout",
     "output_type": "stream",
     "text": [
      "1D Array: [ 1 22 33 44]\n"
     ]
    }
   ],
   "source": [
    "arr_1d = np.array([1,22,33,44])\n",
    "print(\"1D Array:\",arr_1d)"
   ]
  },
  {
   "cell_type": "code",
   "execution_count": 3,
   "id": "04a360ca-f2d3-44ce-9fdc-6196764d5cd8",
   "metadata": {},
   "outputs": [
    {
     "name": "stdout",
     "output_type": "stream",
     "text": [
      "2D Array:\n",
      " [[11  2 32]\n",
      " [ 4 54  6]]\n"
     ]
    }
   ],
   "source": [
    "arr_2d = np.array([[11,2,32],[4,54,6]])\n",
    "print(\"2D Array:\\n\",arr_2d)"
   ]
  },
  {
   "cell_type": "code",
   "execution_count": 4,
   "id": "623d7ac4-4271-46e5-9ef4-a513d9abebbc",
   "metadata": {},
   "outputs": [
    {
     "name": "stdout",
     "output_type": "stream",
     "text": [
      "3D Array:\n",
      "\n",
      " [[[12 22  3]\n",
      "  [ 4 53  6]]\n",
      "\n",
      " [[17 18 19]\n",
      "  [10 11 12]]]\n"
     ]
    }
   ],
   "source": [
    "arr_3d = np.array([[[12,22,3],[4,53,6]],[[17,18,19],[10,11,12]]])\n",
    "print(\"3D Array:\\n\\n\",arr_3d)"
   ]
  },
  {
   "cell_type": "code",
   "execution_count": 6,
   "id": "d7760dd0-37b9-41fe-85dd-8d9f61a59f4d",
   "metadata": {},
   "outputs": [],
   "source": [
    "import numpy as np\n",
    "random_data = np.random.normal(loc=0, scale=1, size=100)"
   ]
  },
  {
   "cell_type": "code",
   "execution_count": 7,
   "id": "3732ff2f-c574-4317-8870-2eb3e6e1bdfe",
   "metadata": {},
   "outputs": [
    {
     "data": {
      "text/plain": [
       "array([-0.7200538 ,  1.10705659,  0.58804387,  0.82307857,  0.5078925 ,\n",
       "       -0.025898  , -0.23748778, -0.28752958, -0.80174081,  1.44563718,\n",
       "        0.03508352,  0.37407907,  0.49538622,  0.57360781, -0.44334835,\n",
       "       -0.50270813, -1.26576951,  0.31212277, -0.19688416,  0.36089468,\n",
       "       -2.72324719, -0.94363757,  0.81084348,  0.3983313 ,  1.35929388,\n",
       "       -1.71129508, -0.75304538,  1.38802281,  1.2487923 ,  0.46058339,\n",
       "       -1.46109141,  1.41748265, -0.21269265, -0.58357523, -0.49182346,\n",
       "        1.49115256, -0.01772249, -0.28810691, -0.25366353,  0.71562246,\n",
       "        0.71083886,  0.6753823 , -1.27359611,  0.73991512,  0.84483377,\n",
       "        0.193669  ,  0.27999752, -0.2839314 , -0.32926702,  1.26792169,\n",
       "        0.22306622,  0.47322066, -0.60059826, -0.79892133,  0.96278168,\n",
       "       -0.62569669, -1.40065173,  0.25662687,  2.37769951, -1.59183855,\n",
       "       -0.33875107, -0.50678237, -0.56705197, -1.46960693, -1.0705021 ,\n",
       "       -2.30582485,  0.35134729,  1.70395844, -0.34067134,  0.02756332,\n",
       "       -1.53194629, -0.82816961, -0.83682964, -0.7539113 , -1.13162098,\n",
       "        1.48833563,  1.55353514, -0.83134351, -2.37519982,  0.23026183,\n",
       "       -1.67214814,  0.04347208,  0.58297009, -1.19948834, -1.60075941,\n",
       "       -0.61945462, -0.96660188, -0.64349624,  0.62220217,  0.23898688,\n",
       "        0.52519202,  0.80833013, -0.69153433,  0.38240742, -0.91775277,\n",
       "        2.33009352, -0.70176434,  0.38011841, -1.17941242,  2.00280813])"
      ]
     },
     "execution_count": 7,
     "metadata": {},
     "output_type": "execute_result"
    }
   ],
   "source": [
    "random_data"
   ]
  },
  {
   "cell_type": "code",
   "execution_count": 8,
   "id": "27cb170f-0687-42ca-92bc-ce949c22c916",
   "metadata": {},
   "outputs": [],
   "source": [
    "linear_data = np.linspace(0, 10, 50)"
   ]
  },
  {
   "cell_type": "code",
   "execution_count": 9,
   "id": "8d0d19b5-c812-473e-8ff0-82be89ab0f19",
   "metadata": {},
   "outputs": [
    {
     "data": {
      "text/plain": [
       "array([ 0.        ,  0.20408163,  0.40816327,  0.6122449 ,  0.81632653,\n",
       "        1.02040816,  1.2244898 ,  1.42857143,  1.63265306,  1.83673469,\n",
       "        2.04081633,  2.24489796,  2.44897959,  2.65306122,  2.85714286,\n",
       "        3.06122449,  3.26530612,  3.46938776,  3.67346939,  3.87755102,\n",
       "        4.08163265,  4.28571429,  4.48979592,  4.69387755,  4.89795918,\n",
       "        5.10204082,  5.30612245,  5.51020408,  5.71428571,  5.91836735,\n",
       "        6.12244898,  6.32653061,  6.53061224,  6.73469388,  6.93877551,\n",
       "        7.14285714,  7.34693878,  7.55102041,  7.75510204,  7.95918367,\n",
       "        8.16326531,  8.36734694,  8.57142857,  8.7755102 ,  8.97959184,\n",
       "        9.18367347,  9.3877551 ,  9.59183673,  9.79591837, 10.        ])"
      ]
     },
     "execution_count": 9,
     "metadata": {},
     "output_type": "execute_result"
    }
   ],
   "source": [
    "linear_data"
   ]
  },
  {
   "cell_type": "code",
   "execution_count": 11,
   "id": "f44411eb-f5c0-4a00-93bf-3af690cd29d7",
   "metadata": {},
   "outputs": [],
   "source": [
    "x = np.linspace(-5, 5, 10)\n",
    "y = np.linspace(-5, 5, 10)\n",
    "xx, yy = np.meshgrid(x, y)\n",
    "\n",
    "grid_dataset = np.column_stack((xx.ravel(), yy.ravel()))"
   ]
  },
  {
   "cell_type": "code",
   "execution_count": 12,
   "id": "97746b48-3b72-4385-9cf9-c57126641020",
   "metadata": {},
   "outputs": [
    {
     "data": {
      "text/plain": [
       "array([[-5.        , -5.        ],\n",
       "       [-3.88888889, -5.        ],\n",
       "       [-2.77777778, -5.        ],\n",
       "       [-1.66666667, -5.        ],\n",
       "       [-0.55555556, -5.        ],\n",
       "       [ 0.55555556, -5.        ],\n",
       "       [ 1.66666667, -5.        ],\n",
       "       [ 2.77777778, -5.        ],\n",
       "       [ 3.88888889, -5.        ],\n",
       "       [ 5.        , -5.        ],\n",
       "       [-5.        , -3.88888889],\n",
       "       [-3.88888889, -3.88888889],\n",
       "       [-2.77777778, -3.88888889],\n",
       "       [-1.66666667, -3.88888889],\n",
       "       [-0.55555556, -3.88888889],\n",
       "       [ 0.55555556, -3.88888889],\n",
       "       [ 1.66666667, -3.88888889],\n",
       "       [ 2.77777778, -3.88888889],\n",
       "       [ 3.88888889, -3.88888889],\n",
       "       [ 5.        , -3.88888889],\n",
       "       [-5.        , -2.77777778],\n",
       "       [-3.88888889, -2.77777778],\n",
       "       [-2.77777778, -2.77777778],\n",
       "       [-1.66666667, -2.77777778],\n",
       "       [-0.55555556, -2.77777778],\n",
       "       [ 0.55555556, -2.77777778],\n",
       "       [ 1.66666667, -2.77777778],\n",
       "       [ 2.77777778, -2.77777778],\n",
       "       [ 3.88888889, -2.77777778],\n",
       "       [ 5.        , -2.77777778],\n",
       "       [-5.        , -1.66666667],\n",
       "       [-3.88888889, -1.66666667],\n",
       "       [-2.77777778, -1.66666667],\n",
       "       [-1.66666667, -1.66666667],\n",
       "       [-0.55555556, -1.66666667],\n",
       "       [ 0.55555556, -1.66666667],\n",
       "       [ 1.66666667, -1.66666667],\n",
       "       [ 2.77777778, -1.66666667],\n",
       "       [ 3.88888889, -1.66666667],\n",
       "       [ 5.        , -1.66666667],\n",
       "       [-5.        , -0.55555556],\n",
       "       [-3.88888889, -0.55555556],\n",
       "       [-2.77777778, -0.55555556],\n",
       "       [-1.66666667, -0.55555556],\n",
       "       [-0.55555556, -0.55555556],\n",
       "       [ 0.55555556, -0.55555556],\n",
       "       [ 1.66666667, -0.55555556],\n",
       "       [ 2.77777778, -0.55555556],\n",
       "       [ 3.88888889, -0.55555556],\n",
       "       [ 5.        , -0.55555556],\n",
       "       [-5.        ,  0.55555556],\n",
       "       [-3.88888889,  0.55555556],\n",
       "       [-2.77777778,  0.55555556],\n",
       "       [-1.66666667,  0.55555556],\n",
       "       [-0.55555556,  0.55555556],\n",
       "       [ 0.55555556,  0.55555556],\n",
       "       [ 1.66666667,  0.55555556],\n",
       "       [ 2.77777778,  0.55555556],\n",
       "       [ 3.88888889,  0.55555556],\n",
       "       [ 5.        ,  0.55555556],\n",
       "       [-5.        ,  1.66666667],\n",
       "       [-3.88888889,  1.66666667],\n",
       "       [-2.77777778,  1.66666667],\n",
       "       [-1.66666667,  1.66666667],\n",
       "       [-0.55555556,  1.66666667],\n",
       "       [ 0.55555556,  1.66666667],\n",
       "       [ 1.66666667,  1.66666667],\n",
       "       [ 2.77777778,  1.66666667],\n",
       "       [ 3.88888889,  1.66666667],\n",
       "       [ 5.        ,  1.66666667],\n",
       "       [-5.        ,  2.77777778],\n",
       "       [-3.88888889,  2.77777778],\n",
       "       [-2.77777778,  2.77777778],\n",
       "       [-1.66666667,  2.77777778],\n",
       "       [-0.55555556,  2.77777778],\n",
       "       [ 0.55555556,  2.77777778],\n",
       "       [ 1.66666667,  2.77777778],\n",
       "       [ 2.77777778,  2.77777778],\n",
       "       [ 3.88888889,  2.77777778],\n",
       "       [ 5.        ,  2.77777778],\n",
       "       [-5.        ,  3.88888889],\n",
       "       [-3.88888889,  3.88888889],\n",
       "       [-2.77777778,  3.88888889],\n",
       "       [-1.66666667,  3.88888889],\n",
       "       [-0.55555556,  3.88888889],\n",
       "       [ 0.55555556,  3.88888889],\n",
       "       [ 1.66666667,  3.88888889],\n",
       "       [ 2.77777778,  3.88888889],\n",
       "       [ 3.88888889,  3.88888889],\n",
       "       [ 5.        ,  3.88888889],\n",
       "       [-5.        ,  5.        ],\n",
       "       [-3.88888889,  5.        ],\n",
       "       [-2.77777778,  5.        ],\n",
       "       [-1.66666667,  5.        ],\n",
       "       [-0.55555556,  5.        ],\n",
       "       [ 0.55555556,  5.        ],\n",
       "       [ 1.66666667,  5.        ],\n",
       "       [ 2.77777778,  5.        ],\n",
       "       [ 3.88888889,  5.        ],\n",
       "       [ 5.        ,  5.        ]])"
      ]
     },
     "execution_count": 12,
     "metadata": {},
     "output_type": "execute_result"
    }
   ],
   "source": [
    "grid_dataset"
   ]
  },
  {
   "cell_type": "code",
   "execution_count": 13,
   "id": "8497260e-7b11-4a7e-a8ab-d95bc203bbe8",
   "metadata": {},
   "outputs": [
    {
     "name": "stdout",
     "output_type": "stream",
     "text": [
      "Array Properties\n",
      "\n",
      "Shape: (2, 3)\n",
      "Size: 6\n",
      "Data Type: int64\n"
     ]
    }
   ],
   "source": [
    "print(\"Array Properties\\n\")\n",
    "print(\"Shape:\",arr_2d.shape)\n",
    "print(\"Size:\",arr_2d.size)\n",
    "print(\"Data Type:\",arr_2d.dtype)"
   ]
  },
  {
   "cell_type": "code",
   "execution_count": 14,
   "id": "10aad89b-0968-434c-abe9-e150170c303a",
   "metadata": {},
   "outputs": [
    {
     "name": "stdout",
     "output_type": "stream",
     "text": [
      "Zeros array:\n",
      " [[0. 0. 0.]\n",
      " [0. 0. 0.]]\n"
     ]
    }
   ],
   "source": [
    "zeros=np.zeros((2,3))\n",
    "print(\"Zeros array:\\n\",zeros)"
   ]
  },
  {
   "cell_type": "code",
   "execution_count": 15,
   "id": "7a214a3f-ad49-41f5-b795-b8539b9b9690",
   "metadata": {},
   "outputs": [
    {
     "name": "stdout",
     "output_type": "stream",
     "text": [
      "Zeros array:\n",
      " [[1. 1. 1. 1. 1. 1.]\n",
      " [1. 1. 1. 1. 1. 1.]\n",
      " [1. 1. 1. 1. 1. 1.]]\n"
     ]
    }
   ],
   "source": [
    "ones=np.ones((3,6))\n",
    "print(\"Zeros array:\\n\",ones)"
   ]
  },
  {
   "cell_type": "code",
   "execution_count": 16,
   "id": "6962bf3a-712d-4fcc-98d4-55a147b4f3f3",
   "metadata": {},
   "outputs": [
    {
     "name": "stdout",
     "output_type": "stream",
     "text": [
      "Identity Matrix:\n",
      " [[1. 0. 0. 0.]\n",
      " [0. 1. 0. 0.]\n",
      " [0. 0. 1. 0.]\n",
      " [0. 0. 0. 1.]]\n"
     ]
    }
   ],
   "source": [
    "identity=np.eye(4)\n",
    "print(\"Identity Matrix:\\n\",identity)"
   ]
  },
  {
   "cell_type": "code",
   "execution_count": 17,
   "id": "82cb872e-3ef3-4b6c-8f88-bfee8ad01da9",
   "metadata": {},
   "outputs": [
    {
     "name": "stdout",
     "output_type": "stream",
     "text": [
      "Linespace:\n",
      " [ 0.  5. 10.]\n"
     ]
    }
   ],
   "source": [
    "linespace=np.linspace(0,10,3)\n",
    "print(\"Linespace:\\n\",linespace)"
   ]
  },
  {
   "cell_type": "code",
   "execution_count": 18,
   "id": "c20e6f49-9618-4bb5-8769-23a4f1b19226",
   "metadata": {},
   "outputs": [
    {
     "name": "stdout",
     "output_type": "stream",
     "text": [
      "Arranging:\n",
      " [ 0  2  4  6  8 10 12 14 16 18 20 22 24 26 28 30 32 34 36 38 40 42 44 46\n",
      " 48 50 52 54 56 58 60 62 64 66 68 70 72 74 76 78 80 82 84 86 88 90 92 94\n",
      " 96 98]\n"
     ]
    }
   ],
   "source": [
    "arrange_array=np.arange(0,100,2)\n",
    "print(\"Arranging:\\n\",arrange_array)"
   ]
  },
  {
   "cell_type": "code",
   "execution_count": 19,
   "id": "68d874ef-e439-457a-b027-6cbd8e80b324",
   "metadata": {},
   "outputs": [
    {
     "name": "stdout",
     "output_type": "stream",
     "text": [
      "Addition:\n",
      " [5 7 9]\n"
     ]
    }
   ],
   "source": [
    "array_a=np.array([1,2,3])\n",
    "array_b=np.array([4,5,6])\n",
    "add = array_a +array_b\n",
    "print(\"Addition:\\n\",add)"
   ]
  },
  {
   "cell_type": "code",
   "execution_count": 20,
   "id": "89561f81-f483-45f0-81dc-a4ba36522c7d",
   "metadata": {},
   "outputs": [
    {
     "name": "stdout",
     "output_type": "stream",
     "text": [
      "Multiplication:\n",
      " [ 4 10 18]\n"
     ]
    }
   ],
   "source": [
    "array_a=np.array([1,2,3])\n",
    "array_b=np.array([4,5,6])\n",
    "mul = array_a * array_b\n",
    "print(\"Multiplication:\\n\",mul)"
   ]
  },
  {
   "cell_type": "code",
   "execution_count": 21,
   "id": "7fd5a569-e262-4c0e-b477-ed74dba97855",
   "metadata": {},
   "outputs": [
    {
     "name": "stdout",
     "output_type": "stream",
     "text": [
      "Scalar Multiplication:\n",
      " [2 4 6]\n"
     ]
    }
   ],
   "source": [
    "scalar_multiply = array_a * 2\n",
    "print(\"Scalar Multiplication:\\n\",scalar_multiply)"
   ]
  },
  {
   "cell_type": "code",
   "execution_count": 22,
   "id": "cf223031-cd2d-4727-923f-efc9d64bd20c",
   "metadata": {},
   "outputs": [
    {
     "name": "stdout",
     "output_type": "stream",
     "text": [
      "Matrix Multiplication:\n",
      " [[ 32  35]\n",
      " [212 235]]\n"
     ]
    }
   ],
   "source": [
    "matrix_a=([1,2],[11,12])\n",
    "matrix_b=([4,5],[14,15])\n",
    "mul = np.dot(matrix_a,matrix_b)\n",
    "print(\"Matrix Multiplication:\\n\",mul)"
   ]
  },
  {
   "cell_type": "code",
   "execution_count": 23,
   "id": "b2b742c4-3b50-4d73-8756-98f3e738fc61",
   "metadata": {},
   "outputs": [
    {
     "name": "stdout",
     "output_type": "stream",
     "text": [
      "Array:\n",
      " [10 20 30 40]\n"
     ]
    }
   ],
   "source": [
    "array = np.array([10,20,30,40])\n",
    "print(\"Array:\\n\",array)"
   ]
  },
  {
   "cell_type": "code",
   "execution_count": 24,
   "id": "0960a6d0-df27-411b-9c08-9a0f6159a011",
   "metadata": {},
   "outputs": [
    {
     "name": "stdout",
     "output_type": "stream",
     "text": [
      "Elements at index 1:  20\n",
      "Elements at index 1 to 3:  [30 40]\n"
     ]
    }
   ],
   "source": [
    "print(\"Elements at index 1: \",array[1])\n",
    "print(\"Elements at index 1 to 3: \",array[2:4])"
   ]
  },
  {
   "cell_type": "code",
   "execution_count": 25,
   "id": "26c42f1b-3943-435d-9e89-4d620117604f",
   "metadata": {},
   "outputs": [
    {
     "name": "stdout",
     "output_type": "stream",
     "text": [
      "Statistical Operations:\n",
      "\n",
      "Sum: 45\n",
      "Mean: 5.0\n",
      "Standard Deviation: 2.581988897471611\n",
      "Max: 9\n",
      "Min: 1\n"
     ]
    }
   ],
   "source": [
    "large_array = np.array([1,2,3,4,5,6,7,8,9])\n",
    "print(\"Statistical Operations:\\n\")\n",
    "print(\"Sum:\",large_array.sum())\n",
    "print(\"Mean:\",large_array.mean())\n",
    "print(\"Standard Deviation:\",large_array.std())\n",
    "print(\"Max:\",large_array.max())\n",
    "print(\"Min:\",large_array.min())"
   ]
  },
  {
   "cell_type": "code",
   "execution_count": 26,
   "id": "68e322e8-cb47-4de9-9395-0e478d72290f",
   "metadata": {},
   "outputs": [
    {
     "name": "stdout",
     "output_type": "stream",
     "text": [
      "Reshaped Array:\n",
      " [[1 2 3]\n",
      " [4 5 6]\n",
      " [7 8 9]]\n"
     ]
    }
   ],
   "source": [
    "reshaped = large_array.reshape(3,3)\n",
    "print(\"Reshaped Array:\\n\",reshaped)"
   ]
  },
  {
   "cell_type": "code",
   "execution_count": 27,
   "id": "44716cf2-166b-4526-a03a-2fbfcfffadb2",
   "metadata": {},
   "outputs": [
    {
     "name": "stdout",
     "output_type": "stream",
     "text": [
      "[1 2 3 4 5 6 7 8 9]\n"
     ]
    }
   ],
   "source": [
    "r=reshaped.flatten()\n",
    "print(r)"
   ]
  },
  {
   "cell_type": "code",
   "execution_count": 28,
   "id": "ba83fcb6-5b53-4b36-b92d-c5f091f63efd",
   "metadata": {},
   "outputs": [
    {
     "name": "stdout",
     "output_type": "stream",
     "text": [
      "Random array:\n",
      " [[0.90454426 0.79891505 0.22080413]\n",
      " [0.31625565 0.51884186 0.86649643]]\n"
     ]
    }
   ],
   "source": [
    "random_array= np.random.random((2,3))\n",
    "print(\"Random array:\\n\",random_array)"
   ]
  },
  {
   "cell_type": "code",
   "execution_count": 29,
   "id": "c0366c3d-7935-437a-9959-82e4d67f13c1",
   "metadata": {},
   "outputs": [
    {
     "name": "stdout",
     "output_type": "stream",
     "text": [
      "Random Integers:\n",
      " [[2 6 6]\n",
      " [8 9 7]]\n"
     ]
    }
   ],
   "source": [
    "random_int= np.random.randint(1,10,size=(2,3))\n",
    "print(\"Random Integers:\\n\",random_int)"
   ]
  },
  {
   "cell_type": "code",
   "execution_count": null,
   "id": "4f3ae73c-5c5e-4cd6-98ea-1c5de348a425",
   "metadata": {},
   "outputs": [],
   "source": []
  }
 ],
 "metadata": {
  "kernelspec": {
   "display_name": "Python 3 (ipykernel)",
   "language": "python",
   "name": "python3"
  },
  "language_info": {
   "codemirror_mode": {
    "name": "ipython",
    "version": 3
   },
   "file_extension": ".py",
   "mimetype": "text/x-python",
   "name": "python",
   "nbconvert_exporter": "python",
   "pygments_lexer": "ipython3",
   "version": "3.12.8"
  }
 },
 "nbformat": 4,
 "nbformat_minor": 5
}
